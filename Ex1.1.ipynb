{
 "cells": [
  {
   "cell_type": "markdown",
   "metadata": {},
   "source": [
    "##### Import requirements"
   ]
  },
  {
   "cell_type": "code",
   "execution_count": 130,
   "metadata": {},
   "outputs": [],
   "source": [
    "import os\n",
    "import json\n",
    "import pandas as pd\n",
    "\n",
    "import google_auth_oauthlib.flow\n",
    "import googleapiclient.discovery\n",
    "import googleapiclient.errors"
   ]
  },
  {
   "cell_type": "markdown",
   "metadata": {},
   "source": [
    "##### CREATE YOUTUBE API FROM GOOGLE APIs"
   ]
  },
  {
   "cell_type": "code",
   "execution_count": 77,
   "metadata": {},
   "outputs": [
    {
     "name": "stdout",
     "output_type": "stream",
     "text": [
      "Please visit this URL to authorize this application: https://accounts.google.com/o/oauth2/auth?response_type=code&client_id=743859723925-rf5c7ehraeo0hpkjqhopf4ditnqgm7fa.apps.googleusercontent.com&redirect_uri=http%3A%2F%2Flocalhost%3A8080%2F&scope=https%3A%2F%2Fwww.googleapis.com%2Fauth%2Fyoutube.readonly&state=twsARFufDlEX8jGlDqK2WowFHrIHZk&access_type=offline\n"
     ]
    }
   ],
   "source": [
    "scopes = [\"https://www.googleapis.com/auth/youtube.readonly\"]\n",
    "\n",
    "#login google\n",
    "def login():\n",
    "    # Disable OAuthlib's HTTPS verification when running locally.\n",
    "    # *DO NOT* leave this option enabled in production.\n",
    "    os.environ[\"OAUTHLIB_INSECURE_TRANSPORT\"] = \"1\"\n",
    "\n",
    "    #create OAuth 2.0 archive at https://console.cloud.google.com/apis/credentials and download the files\n",
    "    client_secrets_file = \"secret_file.json\"\n",
    "\n",
    "    # Get credentials and create an API client\n",
    "    flow = google_auth_oauthlib.flow.InstalledAppFlow.from_client_secrets_file(\n",
    "        client_secrets_file, scopes)\n",
    "    credentials = flow.run_local_server()\n",
    "    #credentials = flow.run_console()\n",
    "    \n",
    "    return credentials\n",
    "\n",
    "#create youtube api\n",
    "credentials = login()\n",
    "api_service_name = \"youtube\"\n",
    "api_version = \"v3\"\n",
    "youtube = googleapiclient.discovery.build(api_service_name, api_version, credentials=credentials)"
   ]
  },
  {
   "cell_type": "markdown",
   "metadata": {},
   "source": [
    "##### REQUEST DATA TO THE API"
   ]
  },
  {
   "cell_type": "code",
   "execution_count": 79,
   "metadata": {},
   "outputs": [],
   "source": [
    "def youtubeSearch(nextPageToken, max):\n",
    "\n",
    "    #search to get the IDs of the videos\n",
    "    request = youtube.search().list(\n",
    "        part=\"snippet\",\n",
    "        maxResults=max,\n",
    "        pageToken=nextPageToken,\n",
    "        publishedAfter=\"2022-10-02T21:00:00Z\",\n",
    "        publishedBefore=\"2022-10-29T21:59:59Z\",\n",
    "        q=\"eleição\",\n",
    "        regionCode=\"BR\",\n",
    "        type=\"video\"\n",
    "    )\n",
    "\n",
    "    response = request.execute()\n",
    "\n",
    "    #Concat the IDs into a unique string separated by comma\n",
    "    listOfIDs = response['items'][0]['id']['videoId']\n",
    "    for i in range(1, len(response['items'])):\n",
    "        listOfIDs = listOfIDs + \",\" + response['items'][i]['id']['videoId']\n",
    "\n",
    "    #Request the data from the vidos os the list of IDs\n",
    "    request = youtube.videos().list(\n",
    "        part=\"snippet,contentDetails,statistics\", \n",
    "        id=listOfIDs\n",
    "    )\n",
    "    \n",
    "    data = request.execute()\n",
    "\n",
    "    return response, data"
   ]
  },
  {
   "cell_type": "markdown",
   "metadata": {},
   "source": [
    "Each request return a limited number of items, then it is necessary save the nextPageToken.\n",
    "\n",
    "With this nextPageToken, it is possible to make a new resquest, but then starting ahead in the resulted array.\n",
    "\n",
    "After all requests, it is possible to concat all the results."
   ]
  },
  {
   "cell_type": "code",
   "execution_count": null,
   "metadata": {},
   "outputs": [],
   "source": [
    "maxResults = 100\n",
    "nextPageToken = \"\"\n",
    "stopFlag = False\n",
    "\n",
    "count = 0\n",
    "listOfResponse = []\n",
    "listOfData = []\n",
    "while(count<maxResults):\n",
    "\n",
    "    if stopFlag:\n",
    "        break\n",
    "\n",
    "    response, data = youtubeSearch(nextPageToken, maxResults)\n",
    "\n",
    "    for key in list(response.keys()):\n",
    "        if key == 'nextPageToken':\n",
    "            nextPageToken = str(response['nextPageToken'])\n",
    "            stopFlag = False\n",
    "            break\n",
    "        else:\n",
    "            stopFlag = True\n",
    "\n",
    "    count = count + len(response['items'])\n",
    "\n",
    "    listOfData = listOfData + [data]\n",
    "\n",
    "data = listOfData[0]['items'] \n",
    "for i in range(1,len(listOfData)):\n",
    "    data = data + listOfData[i]['items']"
   ]
  },
  {
   "cell_type": "markdown",
   "metadata": {},
   "source": [
    "Salva resultado em json"
   ]
  },
  {
   "cell_type": "code",
   "execution_count": 117,
   "metadata": {},
   "outputs": [],
   "source": [
    "#If concat gets right\n",
    "if len(data) == maxResults:\n",
    "    with open('./result/ex1/videos.json', 'w', encoding='utf-8') as json_file:\n",
    "        json.dump(data, json_file,ensure_ascii=False)"
   ]
  },
  {
   "cell_type": "markdown",
   "metadata": {},
   "source": [
    "Abre resultado"
   ]
  },
  {
   "cell_type": "code",
   "execution_count": 131,
   "metadata": {},
   "outputs": [],
   "source": [
    "#f = open('./result/ex1/videos.json')\n",
    "#data = json.load(f)\n",
    "#f.close()"
   ]
  },
  {
   "cell_type": "markdown",
   "metadata": {},
   "source": [
    "Salva resultado em csv"
   ]
  },
  {
   "cell_type": "code",
   "execution_count": 168,
   "metadata": {},
   "outputs": [],
   "source": [
    "df = pd.read_json(\"videos.json\")\n",
    "\n",
    "dfSnippet = pd.json_normalize(df['snippet'])\n",
    "df = pd.concat([df,dfSnippet],axis=1).drop(columns=['snippet'])\n",
    "\n",
    "dfcontentDetails = pd.json_normalize(df['contentDetails'])\n",
    "df = pd.concat([df,dfcontentDetails],axis=1).drop(columns=['contentDetails'])\n",
    "\n",
    "dfStatistics = pd.json_normalize(df['statistics'])\n",
    "df = pd.concat([df,dfStatistics],axis=1).drop(columns=['statistics'])\n",
    "\n",
    "df.to_csv('./result/ex1/videos.csv', sep=\";\")"
   ]
  },
  {
   "cell_type": "markdown",
   "metadata": {},
   "source": [
    "##### Informações do video mais comentado no periodo do segundo turno de 2022, a partir da busca por \"eleição\" no youtube"
   ]
  },
  {
   "cell_type": "code",
   "execution_count": 169,
   "metadata": {},
   "outputs": [
    {
     "name": "stdout",
     "output_type": "stream",
     "text": [
      "kind                                                              youtube#video\n",
      "etag                                                FCBcMzqHy6XMPClE4kUSdTP1iTI\n",
      "id                                                                  5BprpVbXCc0\n",
      "publishedAt                                                2022-10-22T21:00:01Z\n",
      "channelId                                              UCGPCO1PVeWZ-egT6F2wKnaw\n",
      "title                         ELEIÇÕES DE VÓ - PARTE 2 - OS DEPOIMENTOS #ele...\n",
      "description                   ELEIÇÕES DE VÓ - PARTE 2 - OS DEPOIMENTOS #ele...\n",
      "channelTitle                                                 O Victor Magalhães\n",
      "tags                          [carlos matrix, carlos trafico de brigadeiro, ...\n",
      "categoryId                                                                   24\n",
      "liveBroadcastContent                                                       none\n",
      "defaultAudioLanguage                                                         pt\n",
      "thumbnails.default.url           https://i.ytimg.com/vi/5BprpVbXCc0/default.jpg\n",
      "thumbnails.default.width                                                    120\n",
      "thumbnails.default.height                                                    90\n",
      "thumbnails.medium.url          https://i.ytimg.com/vi/5BprpVbXCc0/mqdefault.jpg\n",
      "thumbnails.medium.width                                                     320\n",
      "thumbnails.medium.height                                                    180\n",
      "thumbnails.high.url            https://i.ytimg.com/vi/5BprpVbXCc0/hqdefault.jpg\n",
      "thumbnails.high.width                                                       480\n",
      "thumbnails.high.height                                                      360\n",
      "thumbnails.standard.url        https://i.ytimg.com/vi/5BprpVbXCc0/sddefault.jpg\n",
      "thumbnails.standard.width                                                 640.0\n",
      "thumbnails.standard.height                                                480.0\n",
      "thumbnails.maxres.url         https://i.ytimg.com/vi/5BprpVbXCc0/maxresdefau...\n",
      "thumbnails.maxres.width                                                  1280.0\n",
      "thumbnails.maxres.height                                                  720.0\n",
      "localized.title               ELEIÇÕES DE VÓ - PARTE 2 - OS DEPOIMENTOS #ele...\n",
      "localized.description         ELEIÇÕES DE VÓ - PARTE 2 - OS DEPOIMENTOS #ele...\n",
      "defaultLanguage                                                             NaN\n",
      "duration                                                                   PT1M\n",
      "dimension                                                                    2d\n",
      "definition                                                                   hd\n",
      "caption                                                                   false\n",
      "licensedContent                                                            True\n",
      "projection                                                          rectangular\n",
      "regionRestriction.blocked                                                   NaN\n",
      "viewCount                                                               1613745\n",
      "likeCount                                                                219354\n",
      "favoriteCount                                                                 0\n",
      "commentCount                                                              44168\n",
      "Name: 0, dtype: object\n"
     ]
    }
   ],
   "source": [
    "df['commentCount'] = df['commentCount'].fillna(\"0\")\n",
    "df['commentCount'] = df['commentCount'].astype(int)\n",
    "df = df.sort_values(by='commentCount', ascending=False)\n",
    "\n",
    "#resultado\n",
    "print(df.iloc[0])"
   ]
  },
  {
   "cell_type": "code",
   "execution_count": 171,
   "metadata": {},
   "outputs": [],
   "source": [
    "#pip freeze > requirements.txt"
   ]
  }
 ],
 "metadata": {
  "kernelspec": {
   "display_name": "DadaMining",
   "language": "python",
   "name": "python3"
  },
  "language_info": {
   "codemirror_mode": {
    "name": "ipython",
    "version": 3
   },
   "file_extension": ".py",
   "mimetype": "text/x-python",
   "name": "python",
   "nbconvert_exporter": "python",
   "pygments_lexer": "ipython3",
   "version": "3.10.13"
  }
 },
 "nbformat": 4,
 "nbformat_minor": 2
}
