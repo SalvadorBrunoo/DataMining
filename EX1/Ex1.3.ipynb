{
 "cells": [
  {
   "cell_type": "code",
   "execution_count": 8,
   "metadata": {},
   "outputs": [
    {
     "name": "stderr",
     "output_type": "stream",
     "text": [
      "C:\\Users\\salva\\AppData\\Local\\Temp\\ipykernel_12388\\482299929.py:6: DeprecationWarning: executable_path has been deprecated, please pass in a Service object\n",
      "  driver = webdriver.Chrome(ChromeDriverManager().install())\n"
     ]
    },
    {
     "name": "stdout",
     "output_type": "stream",
     "text": [
      "Success\n"
     ]
    }
   ],
   "source": [
    "from selenium import webdriver\n",
    "from webdriver_manager.chrome import ChromeDriverManager\n",
    "import time\n",
    "\n",
    "# start the drive\n",
    "driver = webdriver.Chrome(ChromeDriverManager().install())\n",
    "\n",
    "# open site\n",
    "driver.get('https://www.uol.com.br/')\n",
    "\n",
    "# wait page loads\n",
    "#time.sleep(5)\n",
    "\n",
    "#get actual height of page\n",
    "lastHeight =  driver.execute_script(\"return document.body.scrollHeight\")\n",
    "newHeight = lastHeight\n",
    "\n",
    "while(True):\n",
    "    #roll the actual height\n",
    "    driver.execute_script(\"window.scrollTo(0,document.body.scrollHeight);\")\n",
    "    \n",
    "    #wait\n",
    "    #time.sleep(2)\n",
    "    \n",
    "    #decide if stops\n",
    "    newHeight = driver.execute_script(\"return document.body.scrollHeight\") #new height after roll\n",
    "    if newHeight == lastHeight: \n",
    "        print(\"Success\")\n",
    "        break\n",
    "\n",
    "    lastHeight = newHeight"
   ]
  }
 ],
 "metadata": {
  "kernelspec": {
   "display_name": "DadaMining",
   "language": "python",
   "name": "python3"
  },
  "language_info": {
   "codemirror_mode": {
    "name": "ipython",
    "version": 3
   },
   "file_extension": ".py",
   "mimetype": "text/x-python",
   "name": "python",
   "nbconvert_exporter": "python",
   "pygments_lexer": "ipython3",
   "version": "3.10.13"
  }
 },
 "nbformat": 4,
 "nbformat_minor": 2
}
