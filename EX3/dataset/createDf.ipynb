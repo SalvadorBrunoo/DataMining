{
 "cells": [
  {
   "cell_type": "code",
   "execution_count": 1,
   "metadata": {},
   "outputs": [],
   "source": [
    "import pandas as pd\n",
    "import numpy as np\n",
    "import re\n",
    "\n",
    "with open('soybean.txt', 'r') as arquivo:\n",
    "    linhas = arquivo.readlines()\n",
    "\n",
    "def toList(data, regex_pattern):\n",
    "    for i in range(0,len(data)):\n",
    "        data[i] = re.findall(regex_pattern, data[i])\n",
    "    return data\n",
    "\n",
    "regex_pattern = r'\\S+|\\?'\n",
    "classes = toList(linhas[46:53],regex_pattern)\n",
    "attributes = toList(linhas[54:89],regex_pattern)\n",
    "data = toList(linhas[91:774],regex_pattern)\n",
    "\n",
    "data = list(map(lambda sublist: [s.replace(',', '') for s in sublist], data))\n",
    "data = list(map(lambda sublist: [s.replace('.', '') for s in sublist], data))\n",
    "classes = list(map(lambda sublist: [s.replace(',', '') for s in sublist], classes))\n",
    "classes = list(map(lambda sublist: [s.replace('.', '') for s in sublist], classes))\n",
    "attributes = list(map(lambda sublist: [s.replace(':', '') for s in sublist], attributes))\n",
    "\n",
    "newClasses = list()\n",
    "for classe in classes: \n",
    "    newClasses += classe[1:]\n",
    "\n",
    "newAttributes = list()\n",
    "for attribute in attributes:\n",
    "    newAttributes += [attribute[2]]\n",
    "\n",
    "classes = newClasses\n",
    "attributes = newAttributes\n",
    "attributes += [\"class\"]"
   ]
  },
  {
   "cell_type": "code",
   "execution_count": 2,
   "metadata": {},
   "outputs": [
    {
     "name": "stdout",
     "output_type": "stream",
     "text": [
      "19 36 683\n"
     ]
    }
   ],
   "source": [
    "print(len(classes),len(attributes),len(data))"
   ]
  },
  {
   "cell_type": "code",
   "execution_count": 3,
   "metadata": {},
   "outputs": [],
   "source": [
    "df = pd.DataFrame(data, columns=attributes)\n",
    "df.replace('?', np.nan, inplace=True)\n",
    "df.to_csv('soybean.csv', sep=\",\")"
   ]
  }
 ],
 "metadata": {
  "kernelspec": {
   "display_name": "Python 3",
   "language": "python",
   "name": "python3"
  },
  "language_info": {
   "codemirror_mode": {
    "name": "ipython",
    "version": 3
   },
   "file_extension": ".py",
   "mimetype": "text/x-python",
   "name": "python",
   "nbconvert_exporter": "python",
   "pygments_lexer": "ipython3",
   "version": "3.9.16"
  }
 },
 "nbformat": 4,
 "nbformat_minor": 2
}
